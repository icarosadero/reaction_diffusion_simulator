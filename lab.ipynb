{
  "cells": [
    {
      "cell_type": "code",
      "execution_count": 16,
      "metadata": {},
      "outputs": [],
      "source": [
        "from solver import diffuser, params\n",
        "import numpy as np\n",
        "import numba as nb\n",
        "import matplotlib.pyplot as plt\n",
        "import pde\n",
        "from PIL import Image\n",
        "from pde import FieldCollection, PDEBase, PlotTracker, ScalarField, UnitGrid\n",
        "\n",
        "img = Image.open('seeds/annulus.png')\n",
        "# Convert to BW\n",
        "img = img.convert('L')\n",
        "# Convert to numpy array\n",
        "img = np.array(img)\n",
        "# Put on interval 0-1\n",
        "img = img / 255\n",
        "l = img.shape[0]\n",
        "img = np.pad(img, int(0.5*l), mode='constant')"
      ]
    },
    {
      "cell_type": "code",
      "execution_count": 7,
      "metadata": {},
      "outputs": [
        {
          "data": {
            "text/plain": [
              "(1109, 1109)"
            ]
          },
          "execution_count": 7,
          "metadata": {},
          "output_type": "execute_result"
        }
      ],
      "source": [
        "img.shape"
      ]
    },
    {
      "cell_type": "code",
      "execution_count": 8,
      "metadata": {},
      "outputs": [
        {
          "data": {
            "text/plain": [
              "<matplotlib.image.AxesImage at 0x7f636c0fb580>"
            ]
          },
          "execution_count": 8,
          "metadata": {},
          "output_type": "execute_result"
        },
        {
          "data": {
            "image/png": "[encoded data removed]",
            "text/plain": [
              "<Figure size 640x480 with 1 Axes>"
            ]
          },
          "metadata": {},
          "output_type": "display_data"
        }
      ],
      "source": [
        "plt.imshow(img, cmap='gray')"
      ]
    },
    {
      "cell_type": "code",
      "execution_count": 9,
      "metadata": {
        "collapsed": false
      },
      "outputs": [],
      "source": [
        "class Diffuser(PDEBase):\n",
        "    def __init__(self, DI, D1, D2, kin, kout, ks, h, Ic, bc=\"auto_periodic_neumann\"):\n",
        "        self.DI = DI\n",
        "        self.D1 = D1\n",
        "        self.D2 = D2\n",
        "        self.kin = kin\n",
        "        self.kout = kout\n",
        "        self.ks = ks\n",
        "        self.h = h\n",
        "        self.Ic = Ic\n",
        "        self.bc = bc\n",
        "\n",
        "    def evolution_rate(self, state, t=0):\n",
        "        DI, D1, D2, kin, kout, ks, h, Ic = self.DI, self.D1, self.D2, self.kin, self.kout, self.ks, self.h, self.Ic\n",
        "        S, S1, S2, I = state\n",
        "        X = state.copy()\n",
        "        H = 1/(1 + (I/Ic)**h)\n",
        "        X[0] = ks*S2\n",
        "        X[1] = D1 * S1.laplace(bc=self.bc) - H*S1*S2*S2 + kin - kout*S1\n",
        "        X[2] = D2 * S2.laplace(bc=self.bc) + H*S1*S2*S2 - ks*S2\n",
        "        X[3] = ks*S2 + DI * I.laplace(bc=self.bc)\n",
        "        return X\n",
        "\n",
        "    def _make_pde_rhs_numba(self, state):\n",
        "        \"\"\"nunmba-compiled implementation of the PDE\"\"\"\n",
        "        DI, D1, D2, kin, kout, ks, h, Ic = self.DI, self.D1, self.D2, self.kin, self.kout, self.ks, self.h, self.Ic\n",
        "        laplace = state.grid.make_operator(\"laplace\", bc=self.bc)\n",
        "\n",
        "        @nb.njit\n",
        "        def pde_rhs(state_data, t):\n",
        "            S = state_data[0]\n",
        "            S1 = state_data[1]\n",
        "            S2 = state_data[2]\n",
        "            I = state_data[3]\n",
        "            H = 1/(1 + (I/Ic)**h)\n",
        "\n",
        "            rate = np.empty_like(state_data)\n",
        "            rate[0] = ks * S2\n",
        "            rate[1] = D1 * laplace(S1) - H*S1*S2*S2 + kin - kout*S1\n",
        "            rate[2] = D2 * laplace(S2) + H*S1*S2*S2 - ks*S2\n",
        "            rate[3] = ks*S2 + DI * laplace(I)\n",
        "            return rate\n",
        "\n",
        "        return pde_rhs"
      ]
    },
    {
      "cell_type": "code",
      "execution_count": 10,
      "metadata": {},
      "outputs": [
        {
          "name": "stderr",
          "output_type": "stream",
          "text": [
            "100%|██████████| 100.0/100.0 [15:34<00:00,  9.34s/it]   \n"
          ]
        }
      ],
      "source": [
        "# initialize state\n",
        "S2 = img\n",
        "S1 = np.zeros_like(S2)\n",
        "S = np.zeros_like(S2)\n",
        "I = np.zeros_like(S2)\n",
        "\n",
        "grid = pde.UnitGrid(img.shape, periodic=True)\n",
        "state = pde.FieldCollection([\n",
        "    pde.ScalarField(grid, S, label='S'),\n",
        "    pde.ScalarField(grid, S1, label='S1'),\n",
        "    pde.ScalarField(grid, S2, label='S2'),\n",
        "    pde.ScalarField(grid, I, label='I')\n",
        "])\n",
        "\n",
        "# simulate the pde\n",
        "sol = Diffuser(**params).solve(state, t_range=100, dt=0.01, tracker=[\"progress\"])"
      ]
    },
    {
      "cell_type": "code",
      "execution_count": 17,
      "metadata": {},
      "outputs": [
        {
          "name": "stdout",
          "output_type": "stream",
          "text": [
            "Unexpected exception formatting exception. Falling back to standard exception\n"
          ]
        },
        {
          "name": "stderr",
          "output_type": "stream",
          "text": [
            "Traceback (most recent call last):\n",
            "  File \"/home/icaro-corpa/Documents/repos/reaction_diffusion_simulator/.venv/lib/python3.10/site-packages/IPython/core/interactiveshell.py\", line 3577, in run_code\n",
            "  File \"/tmp/ipykernel_117138/2421606927.py\", line 1, in <module>\n",
            "    sol.plot()\n",
            "  File \"/home/icaro-corpa/Documents/repos/reaction_diffusion_simulator/.venv/lib/python3.10/site-packages/pde/tools/plotting.py\", line 501, in wrapper\n",
            "  File \"/home/icaro-corpa/Documents/repos/reaction_diffusion_simulator/.venv/lib/python3.10/site-packages/pde/fields/collection.py\", line 1043, in plot\n",
            "  File \"/home/icaro-corpa/Documents/repos/reaction_diffusion_simulator/.venv/lib/python3.10/site-packages/pde/fields/collection.py\", line 1044, in <listcomp>\n",
            "  File \"/home/icaro-corpa/Documents/repos/reaction_diffusion_simulator/.venv/lib/python3.10/site-packages/pde/tools/plotting.py\", line 318, in wrapper\n",
            "  File \"/home/icaro-corpa/Documents/repos/reaction_diffusion_simulator/.venv/lib/python3.10/site-packages/pde/fields/datafield_base.py\", line 1485, in plot\n",
            "  File \"/home/icaro-corpa/Documents/repos/reaction_diffusion_simulator/.venv/lib/python3.10/site-packages/pde/fields/datafield_base.py\", line 1268, in _plot_image\n",
            "  File \"/home/icaro-corpa/Documents/repos/reaction_diffusion_simulator/.venv/lib/python3.10/site-packages/pde/tools/plotting.py\", line 76, in add_scaled_colorbar\n",
            "ImportError: cannot import name 'axes_grid1' from 'mpl_toolkits' (unknown location)\n",
            "\n",
            "During handling of the above exception, another exception occurred:\n",
            "\n",
            "Traceback (most recent call last):\n",
            "  File \"/home/icaro-corpa/Documents/repos/reaction_diffusion_simulator/.venv/lib/python3.10/site-packages/pygments/styles/__init__.py\", line 45, in get_style_by_name\n",
            "ModuleNotFoundError: No module named 'pygments.styles.default'\n",
            "\n",
            "During handling of the above exception, another exception occurred:\n",
            "\n",
            "Traceback (most recent call last):\n",
            "  File \"/home/icaro-corpa/Documents/repos/reaction_diffusion_simulator/.venv/lib/python3.10/site-packages/IPython/core/interactiveshell.py\", line 2168, in showtraceback\n",
            "  File \"/home/icaro-corpa/Documents/repos/reaction_diffusion_simulator/.venv/lib/python3.10/site-packages/IPython/core/ultratb.py\", line 1454, in structured_traceback\n",
            "  File \"/home/icaro-corpa/Documents/repos/reaction_diffusion_simulator/.venv/lib/python3.10/site-packages/IPython/core/ultratb.py\", line 1345, in structured_traceback\n",
            "  File \"/home/icaro-corpa/Documents/repos/reaction_diffusion_simulator/.venv/lib/python3.10/site-packages/IPython/core/ultratb.py\", line 1192, in structured_traceback\n",
            "  File \"/home/icaro-corpa/Documents/repos/reaction_diffusion_simulator/.venv/lib/python3.10/site-packages/IPython/core/ultratb.py\", line 1082, in format_exception_as_a_whole\n",
            "  File \"/home/icaro-corpa/Documents/repos/reaction_diffusion_simulator/.venv/lib/python3.10/site-packages/IPython/core/ultratb.py\", line 1133, in get_records\n",
            "  File \"/home/icaro-corpa/Documents/repos/reaction_diffusion_simulator/.venv/lib/python3.10/site-packages/pygments/styles/__init__.py\", line 47, in get_style_by_name\n",
            "pygments.util.ClassNotFound: Could not find style module 'pygments.styles.default', though it should be builtin.\n"
          ]
        }
      ],
      "source": [
        "sol.plot()"
      ]
    },
    {
      "cell_type": "code",
      "execution_count": null,
      "metadata": {},
      "outputs": [],
      "source": []
    }
  ],
  "metadata": {
    "kernelspec": {
      "display_name": "Python 3",
      "language": "python",
      "name": "python3"
    },
    "language_info": {
      "codemirror_mode": {
        "name": "ipython",
        "version": 3
      },
      "file_extension": ".py",
      "mimetype": "text/x-python",
      "name": "python",
      "nbconvert_exporter": "python",
      "pygments_lexer": "ipython3",
      "version": "3.10.12"
    }
  },
  "nbformat": 4,
  "nbformat_minor": 0
}
